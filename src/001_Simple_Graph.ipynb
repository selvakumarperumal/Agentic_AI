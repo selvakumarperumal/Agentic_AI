{
 "cells": [
  {
   "cell_type": "code",
   "execution_count": 6,
   "id": "9de08628",
   "metadata": {},
   "outputs": [],
   "source": [
    "from langgraph.graph import START, END, StateGraph\n",
    "from pydantic import BaseModel\n",
    "from IPython.display import Image, display"
   ]
  },
  {
   "cell_type": "code",
   "execution_count": 7,
   "id": "704f1a6b",
   "metadata": {},
   "outputs": [],
   "source": [
    "class PortFolioState(BaseModel):\n",
    "    amount_yuan: float\n",
    "    total_yuan: float\n",
    "    total_inr: float"
   ]
  },
  {
   "cell_type": "code",
   "execution_count": null,
   "id": "c7548e6b",
   "metadata": {},
   "outputs": [],
   "source": [
    "def calculate_total_with_interest(state: PortFolioState) -> PortFolioState:\n",
    "    interest_rate = 0.05\n",
    "    state.total_yuan += state.amount_yuan * (1+interest_rate)\n",
    "    return state\n",
    "\n",
    "def convert_yuan_to_inr(state: PortFolioState) -> PortFolioState:\n",
    "    exchange_rate = 12.30\n",
    "    state.total_inr = state.total_yuan * exchange_rate\n",
    "    return state"
   ]
  },
  {
   "cell_type": "code",
   "execution_count": 10,
   "id": "7f694660",
   "metadata": {},
   "outputs": [],
   "source": [
    "builder = StateGraph(PortFolioState)\n",
    "\n",
    "builder.add_node(\"calculate_total_with_interest\", calculate_total_with_interest)\n",
    "builder.add_node(\"convert_yuan_to_inr\", convert_yuan_to_inr)\n",
    "\n",
    "builder.add_edge(START, \"calculate_total_with_interest\")\n",
    "builder.add_edge(\"calculate_total_with_interest\", \"convert_yuan_to_inr\")\n",
    "builder.add_edge(\"convert_yuan_to_inr\", END)\n",
    "\n",
    "graph = builder.compile()"
   ]
  },
  {
   "cell_type": "code",
   "execution_count": 16,
   "id": "77a5520e",
   "metadata": {},
   "outputs": [
    {
     "data": {
      "image/png": "[encoded data removed]",
      "text/plain": [
       "<IPython.core.display.Image object>"
      ]
     },
     "metadata": {},
     "output_type": "display_data"
    }
   ],
   "source": [
    "display(Image(graph.get_graph().draw_mermaid_png()))"
   ]
  },
  {
   "cell_type": "code",
   "execution_count": 18,
   "id": "7e7259a2",
   "metadata": {},
   "outputs": [
    {
     "data": {
      "text/plain": [
       "{'amount_yuan': 1000.0, 'total_yuan': 50.0, 'total_inr': 615.0}"
      ]
     },
     "execution_count": 18,
     "metadata": {},
     "output_type": "execute_result"
    }
   ],
   "source": [
    "graph.invoke({\"amount_yuan\": 1000, \"total_yuan\": 0, \"total_inr\": 0})"
   ]
  },
  {
   "cell_type": "code",
   "execution_count": null,
   "id": "8e84182a",
   "metadata": {},
   "outputs": [],
   "source": []
  }
 ],
 "metadata": {
  "kernelspec": {
   "display_name": "backend_api (3.12.3)",
   "language": "python",
   "name": "python3"
  },
  "language_info": {
   "codemirror_mode": {
    "name": "ipython",
    "version": 3
   },
   "file_extension": ".py",
   "mimetype": "text/x-python",
   "name": "python",
   "nbconvert_exporter": "python",
   "pygments_lexer": "ipython3",
   "version": "3.12.3"
  }
 },
 "nbformat": 4,
 "nbformat_minor": 5
}
