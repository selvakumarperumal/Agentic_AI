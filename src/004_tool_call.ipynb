{
 "cells": [
  {
   "cell_type": "code",
   "execution_count": null,
   "id": "5b89d571",
   "metadata": {},
   "outputs": [],
   "source": [
    "# Import required libraries for Hugging Face models and configuration\n",
    "from langchain_huggingface.chat_models import ChatHuggingFace\n",
    "from langchain_huggingface import HuggingFaceEndpoint\n",
    "from pydantic_settings import BaseSettings\n",
    "from typing import Optional"
   ]
  },
  {
   "cell_type": "code",
   "execution_count": null,
   "id": "daee7b26",
   "metadata": {},
   "outputs": [],
   "source": [
    "# Configuration class to load environment variables from .env file\n",
    "class EndpointSettings(BaseSettings):\n",
    "    HF_TOKEN: str        # Hugging Face API token\n",
    "    repo_id: str         # Model repository ID (e.g., \"deepseek-ai/DeepSeek-V3.1\")\n",
    "    provider: str        # Provider name (e.g., \"novita\", \"auto\")\n",
    "    temperature: float   # Controls randomness in model responses (0.0-1.0)\n",
    "\n",
    "    class Config:\n",
    "        env_file = \"../.env\"           # Path to environment file\n",
    "        env_file_encoding = \"utf-8\"    # File encoding\n",
    "        extra = \"ignore\"               # Ignore extra fields not defined in the class"
   ]
  },
  {
   "cell_type": "code",
   "execution_count": null,
   "id": "402b4b4b",
   "metadata": {},
   "outputs": [],
   "source": [
    "# Custom wrapper class for Hugging Face chat models\n",
    "class HuggingFaceChatModel(ChatHuggingFace):\n",
    "    def __init__(self):\n",
    "        # Load configuration from environment variables\n",
    "        config = EndpointSettings()\n",
    "\n",
    "        # Create Hugging Face endpoint with loaded configuration\n",
    "        llm = HuggingFaceEndpoint(\n",
    "            repo_id=config.repo_id,                    # Model to use\n",
    "            provider=config.provider,                  # Inference provider\n",
    "            temperature=config.temperature,            # Response randomness\n",
    "            huggingfacehub_api_token=config.HF_TOKEN  # Authentication token\n",
    "        )\n",
    "\n",
    "        # Initialize parent class with the configured endpoint\n",
    "        super().__init__(llm=llm)\n",
    "\n",
    "# Create an instance of our custom chat model\n",
    "chat_model = HuggingFaceChatModel()"
   ]
  },
  {
   "cell_type": "code",
   "execution_count": null,
   "id": "cea955ba",
   "metadata": {},
   "outputs": [],
   "source": [
    "# Import LangGraph components for building state machines\n",
    "from langgraph.graph import StateGraph, START, END\n",
    "from langgraph.graph.message import add_messages  # Helper for message accumulation\n",
    "from typing_extensions import TypedDict\n",
    "from typing import Annotated"
   ]
  },
  {
   "cell_type": "code",
   "execution_count": null,
   "id": "323d6adc",
   "metadata": {},
   "outputs": [],
   "source": [
    "# Define the state structure for our graph\n",
    "# TypedDict provides type hints for the state dictionary\n",
    "class State(TypedDict):\n",
    "    # Messages list with automatic accumulation using add_messages\n",
    "    messages: Annotated[list, add_messages]\n",
    "\n",
    "# Main chatbot function that processes user messages\n",
    "def chatbot(state: State) -> State:\n",
    "    # Bind tools to the chat model so it knows about available functions\n",
    "    model_with_tools = chat_model.bind_tools(tools)\n",
    "    # Invoke the model with current messages and return the response\n",
    "    return {\"messages\": [model_with_tools.invoke(state[\"messages\"])]}"
   ]
  },
  {
   "cell_type": "code",
   "execution_count": null,
   "id": "7d18f66e",
   "metadata": {},
   "outputs": [],
   "source": [
    "# Import tool decorator from LangChain\n",
    "from langchain_core.tools import tool\n",
    "\n",
    "# Define a weather tool function\n",
    "@tool\n",
    "def get_current_weather(location: str, unit: Optional[str] = \"celsius\") -> dict:\n",
    "    \"\"\"Get the current weather for a given location and unit.\"\"\"\n",
    "    # Simulate weather API response (in real app, would call actual weather API)\n",
    "    weather_data = {\n",
    "        \"location\": location,\n",
    "        \"temperature\": 22,\n",
    "        \"unit\": unit\n",
    "    }\n",
    "    return weather_data\n",
    "\n",
    "# Define a stock price tool function\n",
    "@tool\n",
    "def get_stock_price(symbol: str) -> dict:\n",
    "    \"\"\"Get the current stock price for a given symbol.\"\"\"\n",
    "    # Simulate stock API response (in real app, would call actual stock API)\n",
    "    stock_data = {\n",
    "        \"symbol\": symbol,\n",
    "        \"price\": 150.0\n",
    "    }\n",
    "    return stock_data"
   ]
  },
  {
   "cell_type": "code",
   "execution_count": null,
   "id": "b4731c69",
   "metadata": {},
   "outputs": [],
   "source": [
    "# Import prebuilt components for tool handling\n",
    "from langgraph.prebuilt import ToolNode, tools_condition\n",
    "\n",
    "# Define tools list that will be available to the chatbot\n",
    "# This must be defined before the chatbot function that references it\n",
    "tools = [get_current_weather, get_stock_price]"
   ]
  },
  {
   "cell_type": "code",
   "execution_count": null,
   "id": "e948b666",
   "metadata": {},
   "outputs": [],
   "source": [
    "# Build the state graph for our chatbot with tool calling\n",
    "builder = StateGraph(State)\n",
    "\n",
    "# Add nodes to the graph\n",
    "builder.add_node(\"chatbot\", chatbot)           # Main chatbot node\n",
    "builder.add_node(\"tools\", ToolNode(tools))     # Tool execution node\n",
    "\n",
    "# Define the graph flow\n",
    "builder.add_edge(START, \"chatbot\")                          # Start with chatbot\n",
    "builder.add_conditional_edges(\"chatbot\", tools_condition)   # Conditionally go to tools if needed\n",
    "builder.add_edge(\"tools\", END)                              # Return to end after tool execution\n",
    "\n",
    "# Compile the graph into a runnable workflow\n",
    "graph = builder.compile()\n"
   ]
  },
  {
   "cell_type": "code",
   "execution_count": null,
   "id": "a3f670ad",
   "metadata": {},
   "outputs": [
    {
     "data": {
      "image/png": "[encoded data removed]",
      "text/plain": [
       "<IPython.core.display.Image object>"
      ]
     },
     "metadata": {},
     "output_type": "display_data"
    }
   ],
   "source": [
    "# Visualize the graph structure\n",
    "from IPython.display import display, Image\n",
    "\n",
    "# Generate and display a visual representation of the graph\n",
    "display(Image(graph.get_graph().draw_mermaid_png()))"
   ]
  },
  {
   "cell_type": "code",
   "execution_count": null,
   "id": "341c8dda",
   "metadata": {},
   "outputs": [],
   "source": [
    "# Test the chatbot with a query that should trigger tool usage\n",
    "# This message asks for both weather and stock information, which should invoke our tools\n",
    "state = graph.invoke({\"messages\": [{\"role\": \"user\", \"content\": \"What's the weather like in New York and the stock price of AAPL?\"}]})"
   ]
  },
  {
   "cell_type": "code",
   "execution_count": null,
   "id": "7909b733",
   "metadata": {},
   "outputs": [
    {
     "data": {
      "text/plain": [
       "[HumanMessage(content=\"What's the weather like in New York and the stock price of AAPL?\", additional_kwargs={}, response_metadata={}, id='1a8957b9-cee3-4dde-b2b8-5cc58236ab79'),\n",
       " AIMessage(content=\"I'll get both the weather in New York and the stock price of AAPL for you.\", additional_kwargs={'tool_calls': [{'function': {'arguments': '{\"location\": \"New York\"}', 'name': 'get_current_weather', 'description': None}, 'id': 'call_dd7b5e83593d4acea9ff70cc', 'type': 'function'}, {'function': {'arguments': '{\"symbol\": \"AAPL\"}', 'name': 'get_stock_price', 'description': None}, 'id': 'call_7fe851b21c844272957a2e71', 'type': 'function'}]}, response_metadata={'token_usage': {'completion_tokens': 50, 'prompt_tokens': 246, 'total_tokens': 296}, 'model_name': 'deepseek-ai/DeepSeek-V3.1', 'system_fingerprint': '', 'finish_reason': 'tool_calls', 'logprobs': None}, id='run--bdb2fea7-a5b0-441b-b616-70421129ff86-0', tool_calls=[{'name': 'get_current_weather', 'args': {'location': 'New York'}, 'id': 'call_dd7b5e83593d4acea9ff70cc', 'type': 'tool_call'}, {'name': 'get_stock_price', 'args': {'symbol': 'AAPL'}, 'id': 'call_7fe851b21c844272957a2e71', 'type': 'tool_call'}], usage_metadata={'input_tokens': 246, 'output_tokens': 50, 'total_tokens': 296}),\n",
       " ToolMessage(content='{\"location\": \"New York\", \"temperature\": 22, \"unit\": \"celsius\"}', name='get_current_weather', id='257a30d8-94d1-4154-bb73-a5fce7d28205', tool_call_id='call_dd7b5e83593d4acea9ff70cc'),\n",
       " ToolMessage(content='{\"symbol\": \"AAPL\", \"price\": 150.0}', name='get_stock_price', id='e80a1c4f-525f-48d7-9b63-dfe1f26273cc', tool_call_id='call_7fe851b21c844272957a2e71')]"
      ]
     },
     "execution_count": 69,
     "metadata": {},
     "output_type": "execute_result"
    }
   ],
   "source": [
    "# Display the conversation messages to see the chatbot's responses\n",
    "# This will show both user messages and AI responses, including any tool calls\n",
    "state[\"messages\"]"
   ]
  },
  {
   "cell_type": "code",
   "execution_count": 70,
   "id": "5b0d732b",
   "metadata": {},
   "outputs": [
    {
     "data": {
      "text/plain": [
       "{'messages': [HumanMessage(content='Let me know what the question i asked?', additional_kwargs={}, response_metadata={}, id='a77e6c86-0ab5-49ef-ba95-3b16242c0b89'),\n",
       "  AIMessage(content=\"I don't see any previous question in our current conversation. We're just starting fresh! \\n\\nWhat would you like to know? I can help you get current weather information for any location or check current stock prices. Just let me know what you need!\", additional_kwargs={}, response_metadata={'token_usage': {'completion_tokens': 52, 'prompt_tokens': 239, 'total_tokens': 291}, 'model_name': 'deepseek-ai/DeepSeek-V3.1', 'system_fingerprint': '', 'finish_reason': 'stop', 'logprobs': None}, id='run--aa109ea8-42c7-45ed-b384-83c673c32ea0-0', usage_metadata={'input_tokens': 239, 'output_tokens': 52, 'total_tokens': 291})]}"
      ]
     },
     "execution_count": 70,
     "metadata": {},
     "output_type": "execute_result"
    }
   ],
   "source": [
    "graph.invoke({\"messages\": [{\"role\": \"user\", \"content\": \"Let me know what the question i asked?\"}]})"
   ]
  },
  {
   "cell_type": "markdown",
   "id": "744544d2",
   "metadata": {},
   "source": [
    "💡 Why the chatbot said “I don’t see any previous question”\n",
    "\n",
    "Each time you call graph.invoke(...) with only a new user message, it starts with a fresh state. That means the model only sees the messages you pass in during that call.\n",
    "\n",
    "add_messages makes sure messages are appended within one run of the graph (so the conversation grows during tool calls + AI responses).\n",
    "\n",
    "But if you want the chatbot to remember past turns across multiple calls, you must pass the full conversation history back in:"
   ]
  },
  {
   "cell_type": "markdown",
   "id": "b2111cb9",
   "metadata": {},
   "source": [
    "### First user turn\n",
    "state = graph.invoke({\"messages\": [{\"role\": \"user\", \"content\": \"What's the weather in New York?\"}]})\n",
    "\n",
    "### Next user turn – reuse the whole history\n",
    "state = graph.invoke({\n",
    "    \"messages\": state[\"messages\"] + [{\"role\": \"user\", \"content\": \"What did I just ask?\"}]\n",
    "})\n"
   ]
  }
 ],
 "metadata": {
  "kernelspec": {
   "display_name": "backend_api (3.12.3)",
   "language": "python",
   "name": "python3"
  },
  "language_info": {
   "codemirror_mode": {
    "name": "ipython",
    "version": 3
   },
   "file_extension": ".py",
   "mimetype": "text/x-python",
   "name": "python",
   "nbconvert_exporter": "python",
   "pygments_lexer": "ipython3",
   "version": "3.12.3"
  }
 },
 "nbformat": 4,
 "nbformat_minor": 5
}
